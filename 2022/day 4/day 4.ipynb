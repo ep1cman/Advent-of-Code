{
 "cells": [
  {
   "cell_type": "markdown",
   "metadata": {},
   "source": [
    "# Day 4: Camp Cleanup\n",
    "\n",
    "Space needs to be cleared before the last supplies can be unloaded from the ships, and so several Elves have been assigned the job of cleaning up sections of the camp. Every section has a unique ID number, and each Elf is assigned a range of section IDs.\n",
    "\n",
    "However, as some of the Elves compare their section assignments with each other, they've noticed that many of the assignments overlap. To try to quickly find overlaps and reduce duplicated effort, the Elves pair up and make a big list of the section assignments for each pair (your puzzle input).\n",
    "\n",
    "For example, consider the following list of section assignment pairs:\n",
    "```\n",
    "2-4,6-8\n",
    "2-3,4-5\n",
    "5-7,7-9\n",
    "2-8,3-7\n",
    "6-6,4-6\n",
    "2-6,4-8\n",
    "```\n",
    "For the first few pairs, this list means:\n",
    "\n",
    "- Within the first pair of Elves, the first Elf was assigned sections 2-4 (sections 2, 3, and 4), while the second Elf was assigned sections 6-8 (sections 6, 7, 8).\n",
    "- The Elves in the second pair were each assigned two sections.\n",
    "- The Elves in the third pair were each assigned three sections: one got sections 5, 6, and 7, while the other also got 7, plus 8 and 9.\n",
    "\n",
    "This example list uses single-digit section IDs to make it easier to draw; your actual list might contain larger numbers. Visually, these pairs of section assignments look like this:\n",
    "```\n",
    ".234.....  2-4\n",
    ".....678.  6-8\n",
    "\n",
    ".23......  2-3\n",
    "...45....  4-5\n",
    "\n",
    "....567..  5-7\n",
    "......789  7-9\n",
    "\n",
    ".2345678.  2-8\n",
    "..34567..  3-7\n",
    "\n",
    ".....6...  6-6\n",
    "...456...  4-6\n",
    "\n",
    ".23456...  2-6\n",
    "...45678.  4-8\n",
    "```\n",
    "Some of the pairs have noticed that one of their assignments fully contains the other. For example, 2-8 fully contains 3-7, and 6-6 is fully contained by 4-6. In pairs where one assignment fully contains the other, one Elf in the pair would be exclusively cleaning sections their partner will already be cleaning, so these seem like the most in need of reconsideration. In this example, there are 2 such pairs.\n",
    "\n",
    "In how many assignment pairs does one range fully contain the other?"
   ]
  },
  {
   "cell_type": "code",
   "execution_count": 1,
   "metadata": {},
   "outputs": [],
   "source": [
    "with open(\"input.txt\") as f:\n",
    "    input_data = f.readlines()\n",
    "\n",
    "test_data = \"\"\"\n",
    "2-4,6-8\n",
    "2-3,4-5\n",
    "5-7,7-9\n",
    "2-8,3-7\n",
    "6-6,4-6\n",
    "2-6,4-8\n",
    "\"\"\".strip().splitlines()"
   ]
  },
  {
   "cell_type": "code",
   "execution_count": 13,
   "metadata": {},
   "outputs": [],
   "source": [
    "def solution(data):\n",
    "    overlapping = 0\n",
    "    for line in data:\n",
    "        sections_a, sections_b = line.split(',')\n",
    "        a_start, a_end = [int(x) for x in sections_a.split('-')] \n",
    "        b_start, b_end = [int(x) for x in sections_b.split('-')] \n",
    "        a = set(range(a_start, a_end+1))\n",
    "        b = set(range(b_start, b_end+1))\n",
    "        if a.issubset(b) or b.issubset(a):\n",
    "            overlapping += 1\n",
    "    \n",
    "    return overlapping\n"
   ]
  },
  {
   "cell_type": "code",
   "execution_count": 14,
   "metadata": {},
   "outputs": [
    {
     "name": "stdout",
     "output_type": "stream",
     "text": [
      "2\n"
     ]
    }
   ],
   "source": [
    "result = solution(test_data)\n",
    "print(result)\n",
    "assert(result == 2)"
   ]
  },
  {
   "cell_type": "code",
   "execution_count": 15,
   "metadata": {},
   "outputs": [
    {
     "data": {
      "text/plain": [
       "526"
      ]
     },
     "execution_count": 15,
     "metadata": {},
     "output_type": "execute_result"
    }
   ],
   "source": [
    "result = solution(input_data)\n",
    "result"
   ]
  },
  {
   "cell_type": "markdown",
   "metadata": {},
   "source": [
    "## Part Two\n",
    "\n",
    "It seems like there is still quite a bit of duplicate work planned. Instead, the Elves would like to know the number of pairs that overlap at all.\n",
    "\n",
    "In the above example, the first two pairs (2-4,6-8 and 2-3,4-5) don't overlap, while the remaining four pairs (5-7,7-9, 2-8,3-7, 6-6,4-6, and 2-6,4-8) do overlap:\n",
    "\n",
    "- 5-7,7-9 overlaps in a single section, 7.\n",
    "- 2-8,3-7 overlaps all of the sections 3 through 7.\n",
    "- 6-6,4-6 overlaps in a single section, 6.\n",
    "- 2-6,4-8 overlaps in sections 4, 5, and 6.\n",
    "\n",
    "So, in this example, the number of overlapping assignment pairs is 4.\n",
    "\n",
    "In how many assignment pairs do the ranges overlap?"
   ]
  },
  {
   "cell_type": "code",
   "execution_count": 22,
   "metadata": {},
   "outputs": [],
   "source": [
    "def solution2(data):\n",
    "    overlapping = 0\n",
    "    for line in data:\n",
    "        sections_a, sections_b = line.split(',')\n",
    "        a_start, a_end = [int(x) for x in sections_a.split('-')] \n",
    "        b_start, b_end = [int(x) for x in sections_b.split('-')] \n",
    "        a = set(range(a_start, a_end+1))\n",
    "        b = set(range(b_start, b_end+1))\n",
    "        if not a.isdisjoint(b):\n",
    "            overlapping += 1\n",
    "    \n",
    "    return overlapping"
   ]
  },
  {
   "cell_type": "code",
   "execution_count": 23,
   "metadata": {},
   "outputs": [
    {
     "name": "stdout",
     "output_type": "stream",
     "text": [
      "4\n"
     ]
    }
   ],
   "source": [
    "result = solution2(test_data)\n",
    "print(result)\n",
    "assert(result == 4)"
   ]
  },
  {
   "cell_type": "code",
   "execution_count": 25,
   "metadata": {},
   "outputs": [
    {
     "data": {
      "text/plain": [
       "886"
      ]
     },
     "execution_count": 25,
     "metadata": {},
     "output_type": "execute_result"
    }
   ],
   "source": [
    "result = solution2(input_data)\n",
    "result"
   ]
  }
 ],
 "metadata": {
  "kernelspec": {
   "display_name": "Python 3.11.0 64-bit",
   "language": "python",
   "name": "python3"
  },
  "language_info": {
   "codemirror_mode": {
    "name": "ipython",
    "version": 3
   },
   "file_extension": ".py",
   "mimetype": "text/x-python",
   "name": "python",
   "nbconvert_exporter": "python",
   "pygments_lexer": "ipython3",
   "version": "3.11.0"
  },
  "orig_nbformat": 4,
  "vscode": {
   "interpreter": {
    "hash": "949777d72b0d2535278d3dc13498b2535136f6dfe0678499012e853ee9abcab1"
   }
  }
 },
 "nbformat": 4,
 "nbformat_minor": 2
}
